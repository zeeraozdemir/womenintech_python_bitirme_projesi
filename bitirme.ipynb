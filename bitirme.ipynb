{
 "cells": [
  {
   "cell_type": "markdown",
   "metadata": {},
   "source": [
    "VERİ ANALİZİ\n"
   ]
  },
  {
   "cell_type": "markdown",
   "metadata": {},
   "source": [
    "MOVIES DATA SETİ\n",
    "* actors \n",
    "* countries\n",
    "* genres\n",
    "* languages\n",
    "* movies\n",
    "* movies2actors\n",
    "* prodcompanies\n",
    "* ratings\n"
   ]
  },
  {
   "cell_type": "markdown",
   "metadata": {},
   "source": [
    "Gerekli Kütüphanelerin Eklenmesi :"
   ]
  },
  {
   "cell_type": "code",
   "execution_count": 1,
   "metadata": {},
   "outputs": [],
   "source": [
    "# Importing libraries\n",
    "import numpy as np\n",
    "import pandas as pd\n",
    "import os\n",
    "import matplotlib.pyplot as plt\n",
    "import matplotlib.pyplot as pl\n",
    "import seaborn as sns"
   ]
  },
  {
   "cell_type": "markdown",
   "metadata": {},
   "source": [
    "Veri Setlerinin Okunması :"
   ]
  },
  {
   "cell_type": "code",
   "execution_count": 72,
   "metadata": {},
   "outputs": [],
   "source": [
    "actors = pd.read_csv(\"movies_dataset/actors.csv\")\n",
    "countries = pd.read_csv(\"movies_dataset/countries.csv\")\n",
    "genres = pd.read_csv(\"movies_dataset/genres.csv\")\n",
    "languages =pd.read_csv(\"movies_dataset/languages.csv\")\n",
    "movies = pd.read_csv(\"movies_dataset/movies.csv\")\n",
    "movies2actors = pd.read_csv(\"movies_dataset/movies2actors.csv\", sep='\\t')\n",
    "prodcompanies = pd.read_csv(\"movies_dataset/prodcompanies.csv\")\n",
    "ratings= pd.read_csv(\"movies_dataset/ratings.csv\")"
   ]
  },
  {
   "cell_type": "markdown",
   "metadata": {},
   "source": [
    "Veri seti hakkında bilgi:"
   ]
  },
  {
   "cell_type": "code",
   "execution_count": 3,
   "metadata": {},
   "outputs": [
    {
     "name": "stdout",
     "output_type": "stream",
     "text": [
      "<class 'pandas.core.frame.DataFrame'>\n",
      "RangeIndex: 98690 entries, 0 to 98689\n",
      "Data columns (total 3 columns):\n",
      " #   Column   Non-Null Count  Dtype \n",
      "---  ------   --------------  ----- \n",
      " 0   actorid  98690 non-null  int64 \n",
      " 1   name     98690 non-null  object\n",
      " 2   sex      98690 non-null  object\n",
      "dtypes: int64(1), object(2)\n",
      "memory usage: 2.3+ MB\n"
     ]
    }
   ],
   "source": [
    "actors.info()"
   ]
  },
  {
   "cell_type": "markdown",
   "metadata": {},
   "source": [
    "Veri seti kolonları görüntüleme:"
   ]
  },
  {
   "cell_type": "code",
   "execution_count": 4,
   "metadata": {},
   "outputs": [
    {
     "data": {
      "text/plain": [
       "Index(['movieid', 'language'], dtype='object')"
      ]
     },
     "execution_count": 4,
     "metadata": {},
     "output_type": "execute_result"
    }
   ],
   "source": [
    "languages.columns"
   ]
  },
  {
   "cell_type": "markdown",
   "metadata": {},
   "source": [
    "Eksik değer kontrolü: "
   ]
  },
  {
   "cell_type": "code",
   "execution_count": 5,
   "metadata": {},
   "outputs": [
    {
     "data": {
      "text/plain": [
       "movieid         0\n",
       "rank            0\n",
       "votes           2\n",
       "distribution    2\n",
       "dtype: int64"
      ]
     },
     "execution_count": 5,
     "metadata": {},
     "output_type": "execute_result"
    }
   ],
   "source": [
    "ratings.isnull().sum()\n"
   ]
  },
  {
   "cell_type": "markdown",
   "metadata": {},
   "source": [
    "Eksik değerleri silme:"
   ]
  },
  {
   "cell_type": "code",
   "execution_count": 6,
   "metadata": {},
   "outputs": [],
   "source": [
    "ratings.dropna(subset=[\"votes\"],axis=0, inplace=True)"
   ]
  },
  {
   "cell_type": "code",
   "execution_count": 7,
   "metadata": {},
   "outputs": [
    {
     "data": {
      "text/plain": [
       "(None,)"
      ]
     },
     "execution_count": 7,
     "metadata": {},
     "output_type": "execute_result"
    }
   ],
   "source": [
    "ratings.dropna(subset=[\"distribution\"],axis=0, inplace=True),"
   ]
  },
  {
   "cell_type": "code",
   "execution_count": 8,
   "metadata": {},
   "outputs": [
    {
     "data": {
      "text/plain": [
       "movieid         0\n",
       "rank            0\n",
       "votes           0\n",
       "distribution    0\n",
       "dtype: int64"
      ]
     },
     "execution_count": 8,
     "metadata": {},
     "output_type": "execute_result"
    }
   ],
   "source": [
    "ratings.isnull().sum()"
   ]
  },
  {
   "cell_type": "code",
   "execution_count": 20,
   "metadata": {},
   "outputs": [
    {
     "data": {
      "text/html": [
       "<div>\n",
       "<style scoped>\n",
       "    .dataframe tbody tr th:only-of-type {\n",
       "        vertical-align: middle;\n",
       "    }\n",
       "\n",
       "    .dataframe tbody tr th {\n",
       "        vertical-align: top;\n",
       "    }\n",
       "\n",
       "    .dataframe thead th {\n",
       "        text-align: right;\n",
       "    }\n",
       "</style>\n",
       "<table border=\"1\" class=\"dataframe\">\n",
       "  <thead>\n",
       "    <tr style=\"text-align: right;\">\n",
       "      <th></th>\n",
       "      <th>movieid</th>\n",
       "      <th>year</th>\n",
       "    </tr>\n",
       "  </thead>\n",
       "  <tbody>\n",
       "    <tr>\n",
       "      <th>count</th>\n",
       "      <td>3.832000e+03</td>\n",
       "      <td>3832.000000</td>\n",
       "    </tr>\n",
       "    <tr>\n",
       "      <th>mean</th>\n",
       "      <td>2.153131e+06</td>\n",
       "      <td>1985.354123</td>\n",
       "    </tr>\n",
       "    <tr>\n",
       "      <th>std</th>\n",
       "      <td>2.695891e+05</td>\n",
       "      <td>18.176435</td>\n",
       "    </tr>\n",
       "    <tr>\n",
       "      <th>min</th>\n",
       "      <td>1.672052e+06</td>\n",
       "      <td>1898.000000</td>\n",
       "    </tr>\n",
       "    <tr>\n",
       "      <th>25%</th>\n",
       "      <td>1.925242e+06</td>\n",
       "      <td>1981.000000</td>\n",
       "    </tr>\n",
       "    <tr>\n",
       "      <th>50%</th>\n",
       "      <td>2.173314e+06</td>\n",
       "      <td>1994.000000</td>\n",
       "    </tr>\n",
       "    <tr>\n",
       "      <th>75%</th>\n",
       "      <td>2.411781e+06</td>\n",
       "      <td>1997.000000</td>\n",
       "    </tr>\n",
       "    <tr>\n",
       "      <th>max</th>\n",
       "      <td>2.593313e+06</td>\n",
       "      <td>2014.000000</td>\n",
       "    </tr>\n",
       "  </tbody>\n",
       "</table>\n",
       "</div>"
      ],
      "text/plain": [
       "            movieid         year\n",
       "count  3.832000e+03  3832.000000\n",
       "mean   2.153131e+06  1985.354123\n",
       "std    2.695891e+05    18.176435\n",
       "min    1.672052e+06  1898.000000\n",
       "25%    1.925242e+06  1981.000000\n",
       "50%    2.173314e+06  1994.000000\n",
       "75%    2.411781e+06  1997.000000\n",
       "max    2.593313e+06  2014.000000"
      ]
     },
     "execution_count": 20,
     "metadata": {},
     "output_type": "execute_result"
    }
   ],
   "source": [
    "movies.describe()\n",
    "\n"
   ]
  },
  {
   "cell_type": "code",
   "execution_count": 142,
   "metadata": {},
   "outputs": [
    {
     "data": {
      "text/plain": [
       "['FILM_ID', 'ULKE']"
      ]
     },
     "execution_count": 142,
     "metadata": {},
     "output_type": "execute_result"
    }
   ],
   "source": [
    "countries.columns.tolist()"
   ]
  },
  {
   "cell_type": "markdown",
   "metadata": {},
   "source": [
    "Fonksiyon ile veri seti hakkında özet bilgi alma:"
   ]
  },
  {
   "cell_type": "code",
   "execution_count": 16,
   "metadata": {},
   "outputs": [],
   "source": [
    "def check_df(dataframe, head=5):\n",
    "\n",
    "    # boyut \n",
    "    print(\"###################################### Shape ######################################\")\n",
    "    print(dataframe.shape)\n",
    "\n",
    "    # tip\n",
    "    print(\"###################################### Types ######################################\")\n",
    "    print(dataframe.dtypes)\n",
    "\n",
    "    \n",
    "    print(\"###################################### Head ######################################\")\n",
    "    print(dataframe.head(head))\n",
    "\n",
    "    \n",
    "    print(\"###################################### Tail ######################################\")\n",
    "    print(dataframe.tail(head))\n",
    "\n",
    "    print(\"###################################### MissingValues #############################\")\n",
    "    print(dataframe.isnull().sum())"
   ]
  },
  {
   "cell_type": "code",
   "execution_count": 21,
   "metadata": {},
   "outputs": [
    {
     "name": "stdout",
     "output_type": "stream",
     "text": [
      "###################################### Shape ######################################\n",
      "(3771, 4)\n",
      "###################################### Types ######################################\n",
      "movieid           int64\n",
      "rank            float64\n",
      "votes           float64\n",
      "distribution     object\n",
      "dtype: object\n",
      "###################################### Head ######################################\n",
      "   movieid  rank    votes distribution\n",
      "0  1672052   7.8   8111.0   0000001222\n",
      "1  1672111   5.3  32183.0   0001221000\n",
      "2  1672580   4.4   1894.0   0011110000\n",
      "3  1672716   7.0   1255.0   0000001212\n",
      "4  1673647   6.5    128.0   0000111211\n",
      "###################################### Tail ######################################\n",
      "      movieid  rank    votes distribution\n",
      "3768  2591814   6.8  56563.0   0000012210\n",
      "3769  2592334   6.2  36951.0   0000122100\n",
      "3770  2592963   7.6   2294.0   0000002311\n",
      "3771  2593112   6.9   1231.0   0000012211\n",
      "3772  2593313   6.9  12087.0   0000013210\n",
      "###################################### MissingValues #############################\n",
      "movieid         0\n",
      "rank            0\n",
      "votes           0\n",
      "distribution    0\n",
      "dtype: int64\n"
     ]
    }
   ],
   "source": [
    "check_df(ratings)"
   ]
  },
  {
   "cell_type": "code",
   "execution_count": 22,
   "metadata": {},
   "outputs": [
    {
     "data": {
      "text/html": [
       "<div>\n",
       "<style scoped>\n",
       "    .dataframe tbody tr th:only-of-type {\n",
       "        vertical-align: middle;\n",
       "    }\n",
       "\n",
       "    .dataframe tbody tr th {\n",
       "        vertical-align: top;\n",
       "    }\n",
       "\n",
       "    .dataframe thead th {\n",
       "        text-align: right;\n",
       "    }\n",
       "</style>\n",
       "<table border=\"1\" class=\"dataframe\">\n",
       "  <thead>\n",
       "    <tr style=\"text-align: right;\">\n",
       "      <th></th>\n",
       "      <th>FILM_ID</th>\n",
       "      <th>FILM_ADI</th>\n",
       "      <th>YAYIN YILI</th>\n",
       "    </tr>\n",
       "  </thead>\n",
       "  <tbody>\n",
       "    <tr>\n",
       "      <th>0</th>\n",
       "      <td>1672052</td>\n",
       "      <td>'Breaker' Morant (1980)</td>\n",
       "      <td>1980</td>\n",
       "    </tr>\n",
       "    <tr>\n",
       "      <th>1</th>\n",
       "      <td>1672111</td>\n",
       "      <td>'Crocodile' Dundee II (1988)</td>\n",
       "      <td>1988</td>\n",
       "    </tr>\n",
       "    <tr>\n",
       "      <th>2</th>\n",
       "      <td>1672580</td>\n",
       "      <td>'Til There Was You (1997)</td>\n",
       "      <td>1997</td>\n",
       "    </tr>\n",
       "    <tr>\n",
       "      <th>3</th>\n",
       "      <td>1672716</td>\n",
       "      <td>'night, Mother (1986)</td>\n",
       "      <td>1986</td>\n",
       "    </tr>\n",
       "    <tr>\n",
       "      <th>4</th>\n",
       "      <td>1672946</td>\n",
       "      <td>...And Justice for All (2014)</td>\n",
       "      <td>2014</td>\n",
       "    </tr>\n",
       "  </tbody>\n",
       "</table>\n",
       "</div>"
      ],
      "text/plain": [
       "   FILM_ID                       FILM_ADI  YAYIN YILI\n",
       "0  1672052        'Breaker' Morant (1980)        1980\n",
       "1  1672111   'Crocodile' Dundee II (1988)        1988\n",
       "2  1672580      'Til There Was You (1997)        1997\n",
       "3  1672716          'night, Mother (1986)        1986\n",
       "4  1672946  ...And Justice for All (2014)        2014"
      ]
     },
     "execution_count": 22,
     "metadata": {},
     "output_type": "execute_result"
    }
   ],
   "source": [
    "movies.rename(columns={\"movieid\":\"FILM_ID\",\n",
    "                       \"title\":\"FILM_ADI\",\n",
    "                       \"year\": \"YAYIN YILI\"},inplace = True)\n",
    "\n",
    "movies.head()                       "
   ]
  },
  {
   "cell_type": "code",
   "execution_count": 23,
   "metadata": {},
   "outputs": [
    {
     "name": "stdout",
     "output_type": "stream",
     "text": [
      "###################################### Shape ######################################\n",
      "(5007, 2)\n",
      "###################################### Types ######################################\n",
      "movieid     int64\n",
      "country    object\n",
      "dtype: object\n",
      "###################################### Head ######################################\n",
      "   movieid    country\n",
      "0  1672052  Australia\n",
      "1  1672111  Australia\n",
      "2  1672111        USA\n",
      "3  1672580        USA\n",
      "4  1672716        USA\n",
      "###################################### Tail ######################################\n",
      "      movieid  country\n",
      "5002  2593112  Germany\n",
      "5003  2593112  Iceland\n",
      "5004  2593112    Japan\n",
      "5005  2593112      USA\n",
      "5006  2593313    Spain\n",
      "###################################### MissingValues #############################\n",
      "movieid    0\n",
      "country    0\n",
      "dtype: int64\n"
     ]
    }
   ],
   "source": [
    "check_df(countries)"
   ]
  },
  {
   "cell_type": "code",
   "execution_count": 90,
   "metadata": {},
   "outputs": [
    {
     "data": {
      "text/html": [
       "<div>\n",
       "<style scoped>\n",
       "    .dataframe tbody tr th:only-of-type {\n",
       "        vertical-align: middle;\n",
       "    }\n",
       "\n",
       "    .dataframe tbody tr th {\n",
       "        vertical-align: top;\n",
       "    }\n",
       "\n",
       "    .dataframe thead th {\n",
       "        text-align: right;\n",
       "    }\n",
       "</style>\n",
       "<table border=\"1\" class=\"dataframe\">\n",
       "  <thead>\n",
       "    <tr style=\"text-align: right;\">\n",
       "      <th></th>\n",
       "      <th>FILM_ID</th>\n",
       "      <th>ULKE</th>\n",
       "    </tr>\n",
       "  </thead>\n",
       "  <tbody>\n",
       "    <tr>\n",
       "      <th>0</th>\n",
       "      <td>1672052</td>\n",
       "      <td>Australia</td>\n",
       "    </tr>\n",
       "    <tr>\n",
       "      <th>1</th>\n",
       "      <td>1672111</td>\n",
       "      <td>Australia</td>\n",
       "    </tr>\n",
       "    <tr>\n",
       "      <th>2</th>\n",
       "      <td>1672111</td>\n",
       "      <td>USA</td>\n",
       "    </tr>\n",
       "    <tr>\n",
       "      <th>3</th>\n",
       "      <td>1672580</td>\n",
       "      <td>USA</td>\n",
       "    </tr>\n",
       "    <tr>\n",
       "      <th>4</th>\n",
       "      <td>1672716</td>\n",
       "      <td>USA</td>\n",
       "    </tr>\n",
       "  </tbody>\n",
       "</table>\n",
       "</div>"
      ],
      "text/plain": [
       "   FILM_ID       ULKE\n",
       "0  1672052  Australia\n",
       "1  1672111  Australia\n",
       "2  1672111        USA\n",
       "3  1672580        USA\n",
       "4  1672716        USA"
      ]
     },
     "execution_count": 90,
     "metadata": {},
     "output_type": "execute_result"
    }
   ],
   "source": [
    "countries.rename(columns={\"movieid\":\"FILM_ID\",\n",
    "                       \"country\":\"ULKE\",},inplace = True)\n",
    "\n",
    "countries.head()            "
   ]
  },
  {
   "cell_type": "code",
   "execution_count": 25,
   "metadata": {},
   "outputs": [
    {
     "name": "stdout",
     "output_type": "stream",
     "text": [
      "###################################### Shape ######################################\n",
      "(4976, 2)\n",
      "###################################### Types ######################################\n",
      "movieid      int64\n",
      "language    object\n",
      "dtype: object\n",
      "###################################### Head ######################################\n",
      "   movieid   language\n",
      "0  1672052  Afrikaans\n",
      "1  1672052    English\n",
      "2  1672111    English\n",
      "3  1672580    English\n",
      "4  1672716    English\n",
      "###################################### Tail ######################################\n",
      "      movieid   language\n",
      "4971  2593112    English\n",
      "4972  2593112     German\n",
      "4973  2593112  Icelandic\n",
      "4974  2593112   Japanese\n",
      "4975  2593313    Spanish\n",
      "###################################### MissingValues #############################\n",
      "movieid     0\n",
      "language    0\n",
      "dtype: int64\n"
     ]
    }
   ],
   "source": [
    "check_df(languages)"
   ]
  },
  {
   "cell_type": "code",
   "execution_count": 118,
   "metadata": {},
   "outputs": [
    {
     "data": {
      "text/html": [
       "<div>\n",
       "<style scoped>\n",
       "    .dataframe tbody tr th:only-of-type {\n",
       "        vertical-align: middle;\n",
       "    }\n",
       "\n",
       "    .dataframe tbody tr th {\n",
       "        vertical-align: top;\n",
       "    }\n",
       "\n",
       "    .dataframe thead th {\n",
       "        text-align: right;\n",
       "    }\n",
       "</style>\n",
       "<table border=\"1\" class=\"dataframe\">\n",
       "  <thead>\n",
       "    <tr style=\"text-align: right;\">\n",
       "      <th></th>\n",
       "      <th>FILM_ID</th>\n",
       "      <th>DIL</th>\n",
       "    </tr>\n",
       "  </thead>\n",
       "  <tbody>\n",
       "    <tr>\n",
       "      <th>0</th>\n",
       "      <td>1672052</td>\n",
       "      <td>Afrikaans</td>\n",
       "    </tr>\n",
       "    <tr>\n",
       "      <th>1</th>\n",
       "      <td>1672052</td>\n",
       "      <td>English</td>\n",
       "    </tr>\n",
       "    <tr>\n",
       "      <th>2</th>\n",
       "      <td>1672111</td>\n",
       "      <td>English</td>\n",
       "    </tr>\n",
       "    <tr>\n",
       "      <th>3</th>\n",
       "      <td>1672580</td>\n",
       "      <td>English</td>\n",
       "    </tr>\n",
       "    <tr>\n",
       "      <th>4</th>\n",
       "      <td>1672716</td>\n",
       "      <td>English</td>\n",
       "    </tr>\n",
       "  </tbody>\n",
       "</table>\n",
       "</div>"
      ],
      "text/plain": [
       "   FILM_ID        DIL\n",
       "0  1672052  Afrikaans\n",
       "1  1672052    English\n",
       "2  1672111    English\n",
       "3  1672580    English\n",
       "4  1672716    English"
      ]
     },
     "execution_count": 118,
     "metadata": {},
     "output_type": "execute_result"
    }
   ],
   "source": [
    "languages.rename(columns={\"movieid\":\"FILM_ID\",\n",
    "                       \"language\":\"DIL\",},inplace = True)\n",
    "\n",
    "languages.head() "
   ]
  },
  {
   "cell_type": "code",
   "execution_count": 27,
   "metadata": {},
   "outputs": [
    {
     "name": "stdout",
     "output_type": "stream",
     "text": [
      "###################################### Shape ######################################\n",
      "(98690, 3)\n",
      "###################################### Types ######################################\n",
      "actorid     int64\n",
      "name       object\n",
      "sex        object\n",
      "dtype: object\n",
      "###################################### Head ######################################\n",
      "   actorid                  name sex\n",
      "0        4            $hort, Too   M\n",
      "1       16    'Bear'Boyd, Steven   M\n",
      "2       28  'Dead End' Kids, The   M\n",
      "3      566        Aaby, Kristian   M\n",
      "4      580                 Aadil   M\n",
      "###################################### Tail ######################################\n",
      "       actorid                   name sex\n",
      "98685  2749162          Ôshima, Akiyo   F\n",
      "98686  2749168         Ôshima, Yukari   F\n",
      "98687  2749204            Ôtani, Ikue   F\n",
      "98688  2749377  Örnólfsdóttir, Álfrún   F\n",
      "98689  2749386             Öss, Eniko   F\n",
      "###################################### MissingValues #############################\n",
      "actorid    0\n",
      "name       0\n",
      "sex        0\n",
      "dtype: int64\n"
     ]
    }
   ],
   "source": [
    "check_df(actors)"
   ]
  },
  {
   "cell_type": "code",
   "execution_count": 126,
   "metadata": {},
   "outputs": [
    {
     "data": {
      "text/html": [
       "<div>\n",
       "<style scoped>\n",
       "    .dataframe tbody tr th:only-of-type {\n",
       "        vertical-align: middle;\n",
       "    }\n",
       "\n",
       "    .dataframe tbody tr th {\n",
       "        vertical-align: top;\n",
       "    }\n",
       "\n",
       "    .dataframe thead th {\n",
       "        text-align: right;\n",
       "    }\n",
       "</style>\n",
       "<table border=\"1\" class=\"dataframe\">\n",
       "  <thead>\n",
       "    <tr style=\"text-align: right;\">\n",
       "      <th></th>\n",
       "      <th>ACTOR_ID</th>\n",
       "      <th>ACTOR_ADI</th>\n",
       "      <th>CINSIYET</th>\n",
       "    </tr>\n",
       "  </thead>\n",
       "  <tbody>\n",
       "    <tr>\n",
       "      <th>0</th>\n",
       "      <td>4</td>\n",
       "      <td>$hort, Too</td>\n",
       "      <td>M</td>\n",
       "    </tr>\n",
       "    <tr>\n",
       "      <th>1</th>\n",
       "      <td>16</td>\n",
       "      <td>'Bear'Boyd, Steven</td>\n",
       "      <td>M</td>\n",
       "    </tr>\n",
       "    <tr>\n",
       "      <th>2</th>\n",
       "      <td>28</td>\n",
       "      <td>'Dead End' Kids, The</td>\n",
       "      <td>M</td>\n",
       "    </tr>\n",
       "    <tr>\n",
       "      <th>3</th>\n",
       "      <td>566</td>\n",
       "      <td>Aaby, Kristian</td>\n",
       "      <td>M</td>\n",
       "    </tr>\n",
       "    <tr>\n",
       "      <th>4</th>\n",
       "      <td>580</td>\n",
       "      <td>Aadil</td>\n",
       "      <td>M</td>\n",
       "    </tr>\n",
       "  </tbody>\n",
       "</table>\n",
       "</div>"
      ],
      "text/plain": [
       "   ACTOR_ID             ACTOR_ADI CINSIYET\n",
       "0         4            $hort, Too        M\n",
       "1        16    'Bear'Boyd, Steven        M\n",
       "2        28  'Dead End' Kids, The        M\n",
       "3       566        Aaby, Kristian        M\n",
       "4       580                 Aadil        M"
      ]
     },
     "execution_count": 126,
     "metadata": {},
     "output_type": "execute_result"
    }
   ],
   "source": [
    "actors.rename(columns={\"actorid\":\"ACTOR_ID\",\n",
    "                       \"name\":\"ACTOR_ADI\",\n",
    "                        \"sex\": \"CINSIYET\"},inplace = True)\n",
    "\n",
    "actors.head() "
   ]
  },
  {
   "cell_type": "code",
   "execution_count": 29,
   "metadata": {},
   "outputs": [
    {
     "name": "stdout",
     "output_type": "stream",
     "text": [
      "###################################### Shape ######################################\n",
      "(138349, 1)\n",
      "###################################### Types ######################################\n",
      "movieid,actorid,as_character,leading    object\n",
      "dtype: object\n",
      "###################################### Head ######################################\n",
      "                movieid,actorid,as_character,leading\n",
      "0          1672052,88796,\"[Court reporter]  <20>\",20\n",
      "1  1672052,88848,\"[Col. Ian 'Johnny' Hamilton]  <...\n",
      "2               1672052,121878,\"[Lt. Reed]  <21>\",21\n",
      "3             1672052,134348,\"[Large Boer]  <41>\",41\n",
      "4       1672052,198682,\"[Lt. Peter Handcock]  <4>\",4\n",
      "###################################### Tail ######################################\n",
      "               movieid,actorid,as_character,leading\n",
      "138344  2593313,2439175,\"[Camello en Vespa]  <6>\",6\n",
      "138345    2593313,2486754,\"[Farmacéutica]  <12>\",12\n",
      "138346        2593313,2521993,\"[Periodista]  <9>\",9\n",
      "138347              2593313,2568546,\"[Alma]  <4>\",4\n",
      "138348         2593313,2633550,\"[Camello]  <24>\",24\n",
      "###################################### MissingValues #############################\n",
      "movieid,actorid,as_character,leading    0\n",
      "dtype: int64\n"
     ]
    }
   ],
   "source": [
    "check_df(movies2actors)"
   ]
  },
  {
   "cell_type": "code",
   "execution_count": 31,
   "metadata": {},
   "outputs": [
    {
     "name": "stdout",
     "output_type": "stream",
     "text": [
      "###################################### Shape ######################################\n",
      "(9843, 2)\n",
      "###################################### Types ######################################\n",
      "movieid     int64\n",
      "name       object\n",
      "dtype: object\n",
      "###################################### Head ######################################\n",
      "   movieid                                         name\n",
      "0  1672052                               7 Network [au]\n",
      "1  1672052         Australian Film Commission, The [au]\n",
      "2  1672052                             Pact Productions\n",
      "3  1672052  South Australian Film Corporation, The [au]\n",
      "4  1672111                      Paramount Pictures [us]\n",
      "###################################### Tail ######################################\n",
      "      movieid                                            name\n",
      "9838  2593112                                          Icicle\n",
      "9839  2593112   Pandora Filmproduktion [de] - (co-production)\n",
      "9840  2593112                  Sunrise [jp] - (co-production)\n",
      "9841  2593112  Zentropa Entertainments [dk] - (co-production)\n",
      "9842  2593313                              El Deseo S.A. [es]\n",
      "###################################### MissingValues #############################\n",
      "movieid    0\n",
      "name       0\n",
      "dtype: int64\n"
     ]
    }
   ],
   "source": [
    "check_df(prodcompanies)"
   ]
  },
  {
   "cell_type": "code",
   "execution_count": 32,
   "metadata": {},
   "outputs": [
    {
     "data": {
      "text/html": [
       "<div>\n",
       "<style scoped>\n",
       "    .dataframe tbody tr th:only-of-type {\n",
       "        vertical-align: middle;\n",
       "    }\n",
       "\n",
       "    .dataframe tbody tr th {\n",
       "        vertical-align: top;\n",
       "    }\n",
       "\n",
       "    .dataframe thead th {\n",
       "        text-align: right;\n",
       "    }\n",
       "</style>\n",
       "<table border=\"1\" class=\"dataframe\">\n",
       "  <thead>\n",
       "    <tr style=\"text-align: right;\">\n",
       "      <th></th>\n",
       "      <th>FILM_ID</th>\n",
       "      <th>YAPIM_FIRMASI</th>\n",
       "    </tr>\n",
       "  </thead>\n",
       "  <tbody>\n",
       "    <tr>\n",
       "      <th>0</th>\n",
       "      <td>1672052</td>\n",
       "      <td>7 Network [au]</td>\n",
       "    </tr>\n",
       "    <tr>\n",
       "      <th>1</th>\n",
       "      <td>1672052</td>\n",
       "      <td>Australian Film Commission, The [au]</td>\n",
       "    </tr>\n",
       "    <tr>\n",
       "      <th>2</th>\n",
       "      <td>1672052</td>\n",
       "      <td>Pact Productions</td>\n",
       "    </tr>\n",
       "    <tr>\n",
       "      <th>3</th>\n",
       "      <td>1672052</td>\n",
       "      <td>South Australian Film Corporation, The [au]</td>\n",
       "    </tr>\n",
       "    <tr>\n",
       "      <th>4</th>\n",
       "      <td>1672111</td>\n",
       "      <td>Paramount Pictures [us]</td>\n",
       "    </tr>\n",
       "  </tbody>\n",
       "</table>\n",
       "</div>"
      ],
      "text/plain": [
       "   FILM_ID                                YAPIM_FIRMASI\n",
       "0  1672052                               7 Network [au]\n",
       "1  1672052         Australian Film Commission, The [au]\n",
       "2  1672052                             Pact Productions\n",
       "3  1672052  South Australian Film Corporation, The [au]\n",
       "4  1672111                      Paramount Pictures [us]"
      ]
     },
     "execution_count": 32,
     "metadata": {},
     "output_type": "execute_result"
    }
   ],
   "source": [
    "prodcompanies.rename(columns={\"movieid\":\"FILM_ID\",\n",
    "                       \"name\":\"YAPIM_FIRMASI\",},inplace = True)\n",
    "\n",
    "prodcompanies.head() "
   ]
  },
  {
   "cell_type": "code",
   "execution_count": 33,
   "metadata": {},
   "outputs": [
    {
     "name": "stdout",
     "output_type": "stream",
     "text": [
      "###################################### Shape ######################################\n",
      "(3771, 4)\n",
      "###################################### Types ######################################\n",
      "movieid           int64\n",
      "rank            float64\n",
      "votes           float64\n",
      "distribution     object\n",
      "dtype: object\n",
      "###################################### Head ######################################\n",
      "   movieid  rank    votes distribution\n",
      "0  1672052   7.8   8111.0   0000001222\n",
      "1  1672111   5.3  32183.0   0001221000\n",
      "2  1672580   4.4   1894.0   0011110000\n",
      "3  1672716   7.0   1255.0   0000001212\n",
      "4  1673647   6.5    128.0   0000111211\n",
      "###################################### Tail ######################################\n",
      "      movieid  rank    votes distribution\n",
      "3768  2591814   6.8  56563.0   0000012210\n",
      "3769  2592334   6.2  36951.0   0000122100\n",
      "3770  2592963   7.6   2294.0   0000002311\n",
      "3771  2593112   6.9   1231.0   0000012211\n",
      "3772  2593313   6.9  12087.0   0000013210\n",
      "###################################### MissingValues #############################\n",
      "movieid         0\n",
      "rank            0\n",
      "votes           0\n",
      "distribution    0\n",
      "dtype: int64\n"
     ]
    }
   ],
   "source": [
    "check_df(ratings)"
   ]
  },
  {
   "cell_type": "code",
   "execution_count": 111,
   "metadata": {},
   "outputs": [
    {
     "data": {
      "text/html": [
       "<div>\n",
       "<style scoped>\n",
       "    .dataframe tbody tr th:only-of-type {\n",
       "        vertical-align: middle;\n",
       "    }\n",
       "\n",
       "    .dataframe tbody tr th {\n",
       "        vertical-align: top;\n",
       "    }\n",
       "\n",
       "    .dataframe thead th {\n",
       "        text-align: right;\n",
       "    }\n",
       "</style>\n",
       "<table border=\"1\" class=\"dataframe\">\n",
       "  <thead>\n",
       "    <tr style=\"text-align: right;\">\n",
       "      <th></th>\n",
       "      <th>FILM_ID</th>\n",
       "      <th>PUAN</th>\n",
       "      <th>OYLAR</th>\n",
       "      <th>DAĞILIM</th>\n",
       "    </tr>\n",
       "  </thead>\n",
       "  <tbody>\n",
       "    <tr>\n",
       "      <th>0</th>\n",
       "      <td>1672052</td>\n",
       "      <td>7.8</td>\n",
       "      <td>8111.0</td>\n",
       "      <td>0000001222</td>\n",
       "    </tr>\n",
       "    <tr>\n",
       "      <th>1</th>\n",
       "      <td>1672111</td>\n",
       "      <td>5.3</td>\n",
       "      <td>32183.0</td>\n",
       "      <td>0001221000</td>\n",
       "    </tr>\n",
       "    <tr>\n",
       "      <th>2</th>\n",
       "      <td>1672580</td>\n",
       "      <td>4.4</td>\n",
       "      <td>1894.0</td>\n",
       "      <td>0011110000</td>\n",
       "    </tr>\n",
       "    <tr>\n",
       "      <th>3</th>\n",
       "      <td>1672716</td>\n",
       "      <td>7.0</td>\n",
       "      <td>1255.0</td>\n",
       "      <td>0000001212</td>\n",
       "    </tr>\n",
       "    <tr>\n",
       "      <th>4</th>\n",
       "      <td>1673647</td>\n",
       "      <td>6.5</td>\n",
       "      <td>128.0</td>\n",
       "      <td>0000111211</td>\n",
       "    </tr>\n",
       "  </tbody>\n",
       "</table>\n",
       "</div>"
      ],
      "text/plain": [
       "   FILM_ID  PUAN    OYLAR     DAĞILIM\n",
       "0  1672052   7.8   8111.0  0000001222\n",
       "1  1672111   5.3  32183.0  0001221000\n",
       "2  1672580   4.4   1894.0  0011110000\n",
       "3  1672716   7.0   1255.0  0000001212\n",
       "4  1673647   6.5    128.0  0000111211"
      ]
     },
     "execution_count": 111,
     "metadata": {},
     "output_type": "execute_result"
    }
   ],
   "source": [
    "ratings.rename(columns={\"movieid\":\"FILM_ID\",\n",
    "                       \"rank\":\"PUAN\",\n",
    "                        \"votes\": \"OYLAR\",\n",
    "                        \"distribution\":\"DAĞILIM\"},inplace = True)\n",
    "\n",
    "ratings.head() "
   ]
  },
  {
   "cell_type": "code",
   "execution_count": 77,
   "metadata": {},
   "outputs": [
    {
     "name": "stdout",
     "output_type": "stream",
     "text": [
      "###################################### Shape ######################################\n",
      "(9940, 2)\n",
      "###################################### Types ######################################\n",
      "movieid     int64\n",
      "genre      object\n",
      "dtype: object\n",
      "###################################### Head ######################################\n",
      "   movieid      genre\n",
      "0  1672052      Drama\n",
      "1  1672052    History\n",
      "2  1672052        War\n",
      "3  1672111     Action\n",
      "4  1672111  Adventure\n",
      "###################################### Tail ######################################\n",
      "      movieid    genre\n",
      "9935  2593112  Mystery\n",
      "9936  2593313   Comedy\n",
      "9937  2593313    Crime\n",
      "9938  2593313    Drama\n",
      "9939  2593313  Romance\n",
      "###################################### MissingValues #############################\n",
      "movieid    0\n",
      "genre      0\n",
      "dtype: int64\n"
     ]
    }
   ],
   "source": [
    "check_df(genres)"
   ]
  },
  {
   "cell_type": "code",
   "execution_count": 78,
   "metadata": {},
   "outputs": [
    {
     "data": {
      "text/html": [
       "<div>\n",
       "<style scoped>\n",
       "    .dataframe tbody tr th:only-of-type {\n",
       "        vertical-align: middle;\n",
       "    }\n",
       "\n",
       "    .dataframe tbody tr th {\n",
       "        vertical-align: top;\n",
       "    }\n",
       "\n",
       "    .dataframe thead th {\n",
       "        text-align: right;\n",
       "    }\n",
       "</style>\n",
       "<table border=\"1\" class=\"dataframe\">\n",
       "  <thead>\n",
       "    <tr style=\"text-align: right;\">\n",
       "      <th></th>\n",
       "      <th>FILM_ID</th>\n",
       "      <th>TUR</th>\n",
       "    </tr>\n",
       "  </thead>\n",
       "  <tbody>\n",
       "    <tr>\n",
       "      <th>0</th>\n",
       "      <td>1672052</td>\n",
       "      <td>Drama</td>\n",
       "    </tr>\n",
       "    <tr>\n",
       "      <th>1</th>\n",
       "      <td>1672052</td>\n",
       "      <td>History</td>\n",
       "    </tr>\n",
       "    <tr>\n",
       "      <th>2</th>\n",
       "      <td>1672052</td>\n",
       "      <td>War</td>\n",
       "    </tr>\n",
       "    <tr>\n",
       "      <th>3</th>\n",
       "      <td>1672111</td>\n",
       "      <td>Action</td>\n",
       "    </tr>\n",
       "    <tr>\n",
       "      <th>4</th>\n",
       "      <td>1672111</td>\n",
       "      <td>Adventure</td>\n",
       "    </tr>\n",
       "  </tbody>\n",
       "</table>\n",
       "</div>"
      ],
      "text/plain": [
       "   FILM_ID        TUR\n",
       "0  1672052      Drama\n",
       "1  1672052    History\n",
       "2  1672052        War\n",
       "3  1672111     Action\n",
       "4  1672111  Adventure"
      ]
     },
     "execution_count": 78,
     "metadata": {},
     "output_type": "execute_result"
    }
   ],
   "source": [
    "genres.rename(columns={\"movieid\":\"FILM_ID\",\n",
    "                       \"genre\":\"TUR\"},inplace = True)\n",
    "\n",
    "genres.head() "
   ]
  },
  {
   "cell_type": "markdown",
   "metadata": {},
   "source": [
    "Dillerin Filmler Arasındaki Dağılımı"
   ]
  },
  {
   "cell_type": "code",
   "execution_count": 35,
   "metadata": {},
   "outputs": [
    {
     "data": {
      "text/plain": [
       "English      3440\n",
       "French        328\n",
       "Spanish       212\n",
       "German        162\n",
       "Italian       159\n",
       "Russian        95\n",
       "Japanese       65\n",
       "Latin          42\n",
       "Mandarin       40\n",
       "Cantonese      36\n",
       "Name: DIL, dtype: int64"
      ]
     },
     "execution_count": 35,
     "metadata": {},
     "output_type": "execute_result"
    }
   ],
   "source": [
    "languages[\"DIL\"].value_counts().head(10)"
   ]
  },
  {
   "cell_type": "code",
   "execution_count": 36,
   "metadata": {},
   "outputs": [
    {
     "data": {
      "image/png": "[encoded data removed]",
      "text/plain": [
       "<Figure size 1500x700 with 1 Axes>"
      ]
     },
     "metadata": {},
     "output_type": "display_data"
    }
   ],
   "source": [
    "\n",
    "lang =languages.groupby('DIL')['DIL'].count().nlargest(15)\n",
    "y=lang\n",
    "x=lang.index\n",
    "\n",
    "fig=plt.figure(figsize=(15,7))\n",
    "l=sns.barplot(x=y,y=x);\n",
    "l.set(title='Distribution of Language of Films', xlabel=\"Count\", ylabel=\"\");"
   ]
  },
  {
   "cell_type": "markdown",
   "metadata": {},
   "source": [
    "Yıllara Göre Çekilen Film Sayısı"
   ]
  },
  {
   "cell_type": "code",
   "execution_count": 54,
   "metadata": {},
   "outputs": [
    {
     "data": {
      "text/plain": [
       "Text(0.5, 1.0, 'Yıllara Göre Çekilen Film Sayısı')"
      ]
     },
     "execution_count": 54,
     "metadata": {},
     "output_type": "execute_result"
    },
    {
     "data": {
      "image/png": "[encoded data removed]",
      "text/plain": [
       "<Figure size 640x480 with 1 Axes>"
      ]
     },
     "metadata": {},
     "output_type": "display_data"
    }
   ],
   "source": [
    "movies[\"YAYIN YILI\"].value_counts().head(30).plot.barh().set_title(\"Yıllara Göre Çekilen Film Sayısı\")\n"
   ]
  },
  {
   "cell_type": "markdown",
   "metadata": {},
   "source": [
    "Ülkelere Göre Çekilen Film Sayısı"
   ]
  },
  {
   "cell_type": "code",
   "execution_count": 58,
   "metadata": {},
   "outputs": [
    {
     "data": {
      "text/plain": [
       "Text(0.5, 1.0, 'Ülkelere Göre Çekilen Film Sayıları')"
      ]
     },
     "execution_count": 58,
     "metadata": {},
     "output_type": "execute_result"
    },
    {
     "data": {
      "image/png": "[encoded data removed]",
      "text/plain": [
       "<Figure size 640x480 with 1 Axes>"
      ]
     },
     "metadata": {},
     "output_type": "display_data"
    }
   ],
   "source": [
    " \n",
    "countries[\"ULKE\"].value_counts().head(18).plot.barh().set_title(\"Ülkelere Göre Çekilen Film Sayıları\")\n"
   ]
  },
  {
   "cell_type": "markdown",
   "metadata": {},
   "source": [
    "Aktörler Kaç Filmde Oynadı?"
   ]
  },
  {
   "cell_type": "code",
   "execution_count": 64,
   "metadata": {},
   "outputs": [
    {
     "data": {
      "text/plain": [
       "DuBois, Diane               2\n",
       "Deroche, Craig              2\n",
       "de la Torre, Antonio (I)    2\n",
       "McKinney, Bill (I)          2\n",
       "$hort, Too                  1\n",
       "Öldutúnsskóla, Kór          1\n",
       "Aalam, Schahla              1\n",
       "Aalam, Leyla                1\n",
       "Aadland, Beverly            1\n",
       "Name: ACTOR_ADI, dtype: int64"
      ]
     },
     "execution_count": 64,
     "metadata": {},
     "output_type": "execute_result"
    }
   ],
   "source": [
    "actors[\"ACTOR_ADI\"].value_counts().head(9)"
   ]
  },
  {
   "cell_type": "code",
   "execution_count": 65,
   "metadata": {},
   "outputs": [
    {
     "data": {
      "text/plain": [
       "Text(0.5, 1.0, 'Aktörler kaç filmde oynadı?')"
      ]
     },
     "execution_count": 65,
     "metadata": {},
     "output_type": "execute_result"
    },
    {
     "data": {
      "image/png": "[encoded data removed]",
      "text/plain": [
       "<Figure size 640x480 with 1 Axes>"
      ]
     },
     "metadata": {},
     "output_type": "display_data"
    }
   ],
   "source": [
    "actors[\"ACTOR_ADI\"].value_counts().head(9).plot.barh().set_title(\"Aktörler kaç filmde oynadı?\")"
   ]
  },
  {
   "cell_type": "markdown",
   "metadata": {},
   "source": [
    " Ülkelere Göre Hangi Tür Filmler çekildi?"
   ]
  },
  {
   "cell_type": "code",
   "execution_count": 92,
   "metadata": {},
   "outputs": [],
   "source": [
    "analiz2_df= pd.merge(genres, countries)"
   ]
  },
  {
   "cell_type": "code",
   "execution_count": 93,
   "metadata": {},
   "outputs": [
    {
     "data": {
      "text/html": [
       "<div>\n",
       "<style scoped>\n",
       "    .dataframe tbody tr th:only-of-type {\n",
       "        vertical-align: middle;\n",
       "    }\n",
       "\n",
       "    .dataframe tbody tr th {\n",
       "        vertical-align: top;\n",
       "    }\n",
       "\n",
       "    .dataframe thead th {\n",
       "        text-align: right;\n",
       "    }\n",
       "</style>\n",
       "<table border=\"1\" class=\"dataframe\">\n",
       "  <thead>\n",
       "    <tr style=\"text-align: right;\">\n",
       "      <th></th>\n",
       "      <th>FILM_ID</th>\n",
       "      <th>TUR</th>\n",
       "      <th>ULKE</th>\n",
       "    </tr>\n",
       "  </thead>\n",
       "  <tbody>\n",
       "    <tr>\n",
       "      <th>0</th>\n",
       "      <td>1672052</td>\n",
       "      <td>Drama</td>\n",
       "      <td>Australia</td>\n",
       "    </tr>\n",
       "    <tr>\n",
       "      <th>1</th>\n",
       "      <td>1672052</td>\n",
       "      <td>History</td>\n",
       "      <td>Australia</td>\n",
       "    </tr>\n",
       "    <tr>\n",
       "      <th>2</th>\n",
       "      <td>1672052</td>\n",
       "      <td>War</td>\n",
       "      <td>Australia</td>\n",
       "    </tr>\n",
       "    <tr>\n",
       "      <th>3</th>\n",
       "      <td>1672111</td>\n",
       "      <td>Action</td>\n",
       "      <td>Australia</td>\n",
       "    </tr>\n",
       "    <tr>\n",
       "      <th>4</th>\n",
       "      <td>1672111</td>\n",
       "      <td>Action</td>\n",
       "      <td>USA</td>\n",
       "    </tr>\n",
       "  </tbody>\n",
       "</table>\n",
       "</div>"
      ],
      "text/plain": [
       "   FILM_ID      TUR       ULKE\n",
       "0  1672052    Drama  Australia\n",
       "1  1672052  History  Australia\n",
       "2  1672052      War  Australia\n",
       "3  1672111   Action  Australia\n",
       "4  1672111   Action        USA"
      ]
     },
     "execution_count": 93,
     "metadata": {},
     "output_type": "execute_result"
    }
   ],
   "source": [
    "analiz2_df.head()"
   ]
  },
  {
   "cell_type": "code",
   "execution_count": 96,
   "metadata": {},
   "outputs": [
    {
     "data": {
      "text/plain": [
       "TUR\n",
       "Comedy              Zaire\n",
       "Drama               Zaire\n",
       "Musical             Zaire\n",
       "Action         Yugoslavia\n",
       "Adventure      Yugoslavia\n",
       "War            Yugoslavia\n",
       "Crime          Yugoslavia\n",
       "Fantasy        Yugoslavia\n",
       "Music        West Germany\n",
       "Thriller     West Germany\n",
       "Name: ULKE, dtype: object"
      ]
     },
     "execution_count": 96,
     "metadata": {},
     "output_type": "execute_result"
    }
   ],
   "source": [
    "analiz2_df.groupby(\"TUR\")[\"ULKE\"].max().sort_values(ascending = False).head(10)"
   ]
  },
  {
   "cell_type": "markdown",
   "metadata": {},
   "source": [
    "En çok hangi türlerde filmler çekilmiştir?"
   ]
  },
  {
   "cell_type": "code",
   "execution_count": 104,
   "metadata": {},
   "outputs": [
    {
     "data": {
      "text/html": [
       "<div>\n",
       "<style scoped>\n",
       "    .dataframe tbody tr th:only-of-type {\n",
       "        vertical-align: middle;\n",
       "    }\n",
       "\n",
       "    .dataframe tbody tr th {\n",
       "        vertical-align: top;\n",
       "    }\n",
       "\n",
       "    .dataframe thead th {\n",
       "        text-align: right;\n",
       "    }\n",
       "</style>\n",
       "<table border=\"1\" class=\"dataframe\">\n",
       "  <thead>\n",
       "    <tr style=\"text-align: right;\">\n",
       "      <th></th>\n",
       "      <th>TUR</th>\n",
       "    </tr>\n",
       "  </thead>\n",
       "  <tbody>\n",
       "    <tr>\n",
       "      <th>Drama</th>\n",
       "      <td>2096</td>\n",
       "    </tr>\n",
       "    <tr>\n",
       "      <th>Comedy</th>\n",
       "      <td>1447</td>\n",
       "    </tr>\n",
       "    <tr>\n",
       "      <th>Romance</th>\n",
       "      <td>925</td>\n",
       "    </tr>\n",
       "    <tr>\n",
       "      <th>Thriller</th>\n",
       "      <td>870</td>\n",
       "    </tr>\n",
       "    <tr>\n",
       "      <th>Crime</th>\n",
       "      <td>608</td>\n",
       "    </tr>\n",
       "    <tr>\n",
       "      <th>Action</th>\n",
       "      <td>539</td>\n",
       "    </tr>\n",
       "    <tr>\n",
       "      <th>Adventure</th>\n",
       "      <td>478</td>\n",
       "    </tr>\n",
       "    <tr>\n",
       "      <th>Horror</th>\n",
       "      <td>371</td>\n",
       "    </tr>\n",
       "    <tr>\n",
       "      <th>Sci-Fi</th>\n",
       "      <td>363</td>\n",
       "    </tr>\n",
       "    <tr>\n",
       "      <th>Mystery</th>\n",
       "      <td>328</td>\n",
       "    </tr>\n",
       "    <tr>\n",
       "      <th>Family</th>\n",
       "      <td>322</td>\n",
       "    </tr>\n",
       "    <tr>\n",
       "      <th>Fantasy</th>\n",
       "      <td>311</td>\n",
       "    </tr>\n",
       "  </tbody>\n",
       "</table>\n",
       "</div>"
      ],
      "text/plain": [
       "            TUR\n",
       "Drama      2096\n",
       "Comedy     1447\n",
       "Romance     925\n",
       "Thriller    870\n",
       "Crime       608\n",
       "Action      539\n",
       "Adventure   478\n",
       "Horror      371\n",
       "Sci-Fi      363\n",
       "Mystery     328\n",
       "Family      322\n",
       "Fantasy     311"
      ]
     },
     "execution_count": 104,
     "metadata": {},
     "output_type": "execute_result"
    }
   ],
   "source": [
    "genre_filter=genres['TUR'].value_counts().loc[lambda x: x>300].to_frame()\n",
    "genre_filter"
   ]
  },
  {
   "cell_type": "code",
   "execution_count": 105,
   "metadata": {},
   "outputs": [
    {
     "data": {
      "image/png": "[encoded data removed]",
      "text/plain": [
       "<Figure size 2400x800 with 1 Axes>"
      ]
     },
     "metadata": {},
     "output_type": "display_data"
    }
   ],
   "source": [
    "plt.figure(figsize = (24,8))\n",
    "sns.barplot(x = genres[\"TUR\"].unique(), y= genres[\"TUR\"].value_counts(), palette= \"summer_r\")\n",
    "plt.title(\"Number of Movies in Genres\",\n",
    "          fontsize= 20,\n",
    "          fontweight = \"bold\")\n",
    "plt.grid(color='#95a5a5', linestyle='--', linewidth=1, axis='y', alpha=0.7)\n",
    "plt.xlabel(\"Genres\", weight=\"bold\", color=\"#355765\", fontsize=14, labelpad = 20)\n",
    "plt.ylabel(\"Values\", weight=\"bold\", color=\"#355765\", fontsize=14, labelpad=20)\n",
    "plt.xticks(rotation=90, fontsize=10, weight=\"bold\")\n",
    "plt.yticks(rotation=90, fontsize=10, weight=\"bold\")\n",
    "plt.show()"
   ]
  },
  {
   "cell_type": "code",
   "execution_count": 116,
   "metadata": {},
   "outputs": [
    {
     "data": {
      "text/plain": [
       "Index(['FILM_ID', 'TUR', 'PUAN', 'OYLAR', 'DAĞILIM'], dtype='object')"
      ]
     },
     "execution_count": 116,
     "metadata": {},
     "output_type": "execute_result"
    }
   ],
   "source": [
    "analiz3_df = pd.merge(genres,ratings)\n",
    "analiz3_df.columns"
   ]
  },
  {
   "cell_type": "markdown",
   "metadata": {},
   "source": [
    "Türlere göre en çok puanı hangi tür filmler aldı?"
   ]
  },
  {
   "cell_type": "code",
   "execution_count": 117,
   "metadata": {},
   "outputs": [
    {
     "data": {
      "text/plain": [
       "TUR\n",
       "Crime        9.3\n",
       "Drama        9.3\n",
       "Western      9.0\n",
       "Adventure    9.0\n",
       "Thriller     9.0\n",
       "War          8.9\n",
       "History      8.9\n",
       "Biography    8.9\n",
       "Action       8.8\n",
       "Fantasy      8.8\n",
       "Name: PUAN, dtype: float64"
      ]
     },
     "execution_count": 117,
     "metadata": {},
     "output_type": "execute_result"
    }
   ],
   "source": [
    "analiz3_df.groupby(\"TUR\")[\"PUAN\"].max().sort_values(ascending = False).head(10)"
   ]
  },
  {
   "cell_type": "code",
   "execution_count": 94,
   "metadata": {},
   "outputs": [
    {
     "data": {
      "image/png": "[encoded data removed]",
      "text/plain": [
       "<Figure size 800x600 with 1 Axes>"
      ]
     },
     "metadata": {},
     "output_type": "display_data"
    }
   ],
   "source": [
    "plt.figure(figsize=(8,6))\n",
    "sns.barplot(x = \"genre\", y = \"rank\", data=analiz3_df.reset_index(), palette=\"twilight\")\n",
    "plt.title(\"Genre with the highest rank\", weight=\"bold\",fontsize=16)\n",
    "plt.xlabel(\"Genre\", weight=\"bold\", color=\"#355764\", fontsize=14, labelpad = 20)\n",
    "plt.ylabel(\"Rank\", weight=\"bold\", color=\"#355764\", fontsize=14, labelpad=20)\n",
    "plt.xticks(rotation=90, fontsize=10, weight=\"bold\")\n",
    "plt.yticks(rotation=90, fontsize=10, weight=\"bold\")\n",
    "plt.show()"
   ]
  },
  {
   "cell_type": "code",
   "execution_count": 119,
   "metadata": {},
   "outputs": [],
   "source": [
    "analiz5_df = pd.merge(genres,languages)"
   ]
  },
  {
   "cell_type": "code",
   "execution_count": 121,
   "metadata": {},
   "outputs": [
    {
     "data": {
      "text/plain": [
       "DIL         TUR     \n",
       "English     Drama       1840\n",
       "            Comedy      1340\n",
       "            Romance      844\n",
       "            Thriller     828\n",
       "            Crime        570\n",
       "                        ... \n",
       "Inuktitut   Sci-Fi         1\n",
       "            Crime          1\n",
       "Indonesian  War            1\n",
       "            Romance        1\n",
       "Zulu        Thriller       1\n",
       "Name: TUR, Length: 796, dtype: int64"
      ]
     },
     "execution_count": 121,
     "metadata": {},
     "output_type": "execute_result"
    }
   ],
   "source": [
    "analiz5_df.groupby(\"DIL\")[\"TUR\"].value_counts().sort_values(ascending=False)"
   ]
  },
  {
   "cell_type": "markdown",
   "metadata": {},
   "source": [
    "Film Sayısına Göre Yapım Firmaları "
   ]
  },
  {
   "cell_type": "code",
   "execution_count": 124,
   "metadata": {},
   "outputs": [
    {
     "data": {
      "text/html": [
       "<div>\n",
       "<style scoped>\n",
       "    .dataframe tbody tr th:only-of-type {\n",
       "        vertical-align: middle;\n",
       "    }\n",
       "\n",
       "    .dataframe tbody tr th {\n",
       "        vertical-align: top;\n",
       "    }\n",
       "\n",
       "    .dataframe thead th {\n",
       "        text-align: right;\n",
       "    }\n",
       "</style>\n",
       "<table border=\"1\" class=\"dataframe\">\n",
       "  <thead>\n",
       "    <tr style=\"text-align: right;\">\n",
       "      <th></th>\n",
       "      <th>name</th>\n",
       "    </tr>\n",
       "    <tr>\n",
       "      <th>name</th>\n",
       "      <th></th>\n",
       "    </tr>\n",
       "  </thead>\n",
       "  <tbody>\n",
       "    <tr>\n",
       "      <th>Paramount Pictures [us]</th>\n",
       "      <td>116</td>\n",
       "    </tr>\n",
       "    <tr>\n",
       "      <th>Universal Pictures [us]</th>\n",
       "      <td>106</td>\n",
       "    </tr>\n",
       "    <tr>\n",
       "      <th>Warner Bros. [us]</th>\n",
       "      <td>100</td>\n",
       "    </tr>\n",
       "    <tr>\n",
       "      <th>Columbia Pictures Corporation [us]</th>\n",
       "      <td>92</td>\n",
       "    </tr>\n",
       "    <tr>\n",
       "      <th>Twentieth Century Fox Film Corporation [us]</th>\n",
       "      <td>86</td>\n",
       "    </tr>\n",
       "  </tbody>\n",
       "</table>\n",
       "</div>"
      ],
      "text/plain": [
       "                                             name\n",
       "name                                             \n",
       "Paramount Pictures [us]                       116\n",
       "Universal Pictures [us]                       106\n",
       "Warner Bros. [us]                             100\n",
       "Columbia Pictures Corporation [us]             92\n",
       "Twentieth Century Fox Film Corporation [us]    86"
      ]
     },
     "execution_count": 124,
     "metadata": {},
     "output_type": "execute_result"
    }
   ],
   "source": [
    "production= prodcompanies.groupby(by='name')[\"name\"].count().sort_values(ascending=False).head(5)\n",
    "pd.DataFrame(production)"
   ]
  },
  {
   "cell_type": "code",
   "execution_count": 141,
   "metadata": {},
   "outputs": [
    {
     "data": {
      "text/plain": [
       "<AxesSubplot: >"
      ]
     },
     "execution_count": 141,
     "metadata": {},
     "output_type": "execute_result"
    },
    {
     "data": {
      "image/png": "[encoded data removed]",
      "text/plain": [
       "<Figure size 640x480 with 1 Axes>"
      ]
     },
     "metadata": {},
     "output_type": "display_data"
    }
   ],
   "source": [
    "prodcompanies[\"name\"].value_counts().head(10).plot.barh()"
   ]
  }
 ],
 "metadata": {
  "kernelspec": {
   "display_name": "Python 3.10.5 64-bit",
   "language": "python",
   "name": "python3"
  },
  "language_info": {
   "codemirror_mode": {
    "name": "ipython",
    "version": 3
   },
   "file_extension": ".py",
   "mimetype": "text/x-python",
   "name": "python",
   "nbconvert_exporter": "python",
   "pygments_lexer": "ipython3",
   "version": "3.10.5"
  },
  "orig_nbformat": 4,
  "vscode": {
   "interpreter": {
    "hash": "f0e6a655b6036305b310326d5b94fe4f588858eb6b0ad9b0044624012cfc47cf"
   }
  }
 },
 "nbformat": 4,
 "nbformat_minor": 2
}
